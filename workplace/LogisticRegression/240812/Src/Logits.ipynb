{
 "cells": [
  {
   "cell_type": "markdown",
   "metadata": {},
   "source": [
    "# No data transformation, use ady_dna as addtional features"
   ]
  },
  {
   "cell_type": "code",
   "execution_count": 1,
   "metadata": {},
   "outputs": [
    {
     "name": "stdout",
     "output_type": "stream",
     "text": [
      "Classification Report:\n",
      "              precision    recall  f1-score   support\n",
      "\n",
      "         0.0       0.65      0.99      0.78       302\n",
      "         1.0       0.57      0.02      0.05       167\n",
      "\n",
      "    accuracy                           0.65       469\n",
      "   macro avg       0.61      0.51      0.41       469\n",
      "weighted avg       0.62      0.65      0.52       469\n",
      "\n",
      "Confusion Matrix:\n",
      "[[299   3]\n",
      " [163   4]]\n",
      "AUC-ROC: 0.6487885156838641\n",
      "Accuracy: 0.6460554371002132\n"
     ]
    }
   ],
   "source": [
    "import numpy as np\n",
    "import pandas as pd\n",
    "from sklearn.model_selection import KFold\n",
    "from sklearn.preprocessing import MinMaxScaler, StandardScaler\n",
    "from sklearn.metrics import accuracy_score, classification_report, confusion_matrix, roc_auc_score\n",
    "from sklearn.linear_model import LogisticRegression\n",
    "\n",
    "# Load the cleaned dataset\n",
    "data_cleaned = pd.read_csv('../../../Data_processing/Outputs/train.csv')\n",
    "#optional\n",
    "data_cleaned = data_cleaned.loc[data_cleaned['usubjid'].isin(data_cleaned[data_cleaned['label'] == 1][\"usubjid\"].unique())]\n",
    "\n",
    "data_cleaned.dropna(inplace=True)\n",
    "\n",
    "# Preprocess the data\n",
    "features = ['aval_AlloMap', 'aval_AlloSure', 'ady_dna']\n",
    "target = 'label'\n",
    "\n",
    "# Group data by 'usubjid' to maintain sequence structure\n",
    "grouped_data = data_cleaned.groupby('usubjid')\n",
    "\n",
    "# Shuffle and sort grouped data to maintain sequence order\n",
    "shuffled_df = grouped_data.sample(frac=1, random_state=42)\n",
    "shuffled_df = shuffled_df.sort_values(['usubjid', 'ady_dna'])\n",
    "\n",
    "# Reset the index of the shuffled dataframe\n",
    "grouped_data = shuffled_df.reset_index(drop=True)\n",
    "grouped_data = grouped_data.groupby('usubjid')\n",
    "\n",
    "X_grouped = [group[features].values for name, group in grouped_data]\n",
    "y_grouped = [group[target].values for name, group in grouped_data]\n",
    "\n",
    "# Calculate the split index for 80%/20%\n",
    "split_index = int(0.80 * len(X_grouped))\n",
    "\n",
    "# Split the sequences into training and testing sets\n",
    "X_train_grouped = X_grouped[:split_index]\n",
    "X_test_grouped = X_grouped[split_index:]\n",
    "y_train_grouped = y_grouped[:split_index]\n",
    "y_test_grouped = y_grouped[split_index:]\n",
    "\n",
    "# Concatenate the sequences to form the training and testing sets\n",
    "X_train = np.concatenate(X_train_grouped)\n",
    "X_test = np.concatenate(X_test_grouped)\n",
    "y_train = np.concatenate(y_train_grouped)\n",
    "y_test = np.concatenate(y_test_grouped)\n",
    "\n",
    "\n",
    "# Initialize and train the Logistic Regression model\n",
    "logistic_model = LogisticRegression(random_state=42, max_iter=1000)\n",
    "logistic_model.fit(X_train, y_train)\n",
    "\n",
    "# Predict probabilities on the test set\n",
    "y_pred_probs = logistic_model.predict_proba(X_test)[:, 1]  # Probability of the positive class\n",
    "\n",
    "# Predict the class labels on the test set\n",
    "y_pred = logistic_model.predict(X_test)\n",
    "predicted_labels = logistic_model.predict(X_test)\n",
    "\n",
    "\n",
    "# Generate and print classification metrics\n",
    "print(\"Classification Report:\")\n",
    "print(classification_report(y_test, y_pred))\n",
    "\n",
    "print(\"Confusion Matrix:\")\n",
    "print(confusion_matrix(y_test, y_pred))\n",
    "\n",
    "# Calculate AUC-ROC\n",
    "auc = roc_auc_score(y_test, y_pred_probs)\n",
    "print(f\"AUC-ROC: {auc}\")\n",
    "\n",
    "accuracy = accuracy_score(y_test, predicted_labels)\n",
    "print(f\"Accuracy: {accuracy}\")\n"
   ]
  },
  {
   "cell_type": "markdown",
   "metadata": {},
   "source": [
    "# Allosure baseline"
   ]
  },
  {
   "cell_type": "code",
   "execution_count": 5,
   "metadata": {},
   "outputs": [
    {
     "name": "stdout",
     "output_type": "stream",
     "text": [
      "AUC-ROC: 0.6380095628358352\n",
      "Classification Report:\n",
      "              precision    recall  f1-score   support\n",
      "\n",
      "         0.0       0.76      0.64      0.70       302\n",
      "         1.0       0.49      0.63      0.55       167\n",
      "\n",
      "    accuracy                           0.64       469\n",
      "   macro avg       0.63      0.64      0.62       469\n",
      "weighted avg       0.66      0.64      0.64       469\n",
      "\n",
      "Confusion Matrix:\n",
      "[[194 108]\n",
      " [ 62 105]]\n"
     ]
    }
   ],
   "source": [
    "# Calculate AUC-ROC\n",
    "X = np.concatenate([X_train, X_test])\n",
    "y = np.concatenate([y_train, y_test])\n",
    "auc = roc_auc_score(y, X[:, 1])\n",
    "print(f\"AUC-ROC: {auc}\")\n",
    "\n",
    "#create a threshold for allosure\n",
    "predicted_allosure = X_test[:, 1]\n",
    "predicted_labels = (predicted_allosure > 0.1).astype(int)\n",
    "# Evaluate the performance\n",
    "print(\"Classification Report:\")\n",
    "print(classification_report(y_test, predicted_labels))\n",
    "print(\"Confusion Matrix:\")\n",
    "print(confusion_matrix(y_test, predicted_labels))"
   ]
  },
  {
   "cell_type": "markdown",
   "metadata": {},
   "source": [
    "# Allomap baseline"
   ]
  },
  {
   "cell_type": "code",
   "execution_count": 3,
   "metadata": {},
   "outputs": [
    {
     "name": "stdout",
     "output_type": "stream",
     "text": [
      "AUC-ROC: 0.5894436292976961\n",
      "Classification Report:\n",
      "              precision    recall  f1-score   support\n",
      "\n",
      "         0.0       0.67      0.89      0.77       302\n",
      "         1.0       0.53      0.22      0.31       167\n",
      "\n",
      "    accuracy                           0.65       469\n",
      "   macro avg       0.60      0.55      0.54       469\n",
      "weighted avg       0.62      0.65      0.60       469\n",
      "\n",
      "Confusion Matrix:\n",
      "[[270  32]\n",
      " [131  36]]\n"
     ]
    }
   ],
   "source": [
    "# Calculate AUC-ROC\n",
    "X = np.concatenate([X_train, X_test])\n",
    "y = np.concatenate([y_train, y_test])\n",
    "auc = roc_auc_score(y_test, X_test[:, 0])\n",
    "print(f\"AUC-ROC: {auc}\")\n",
    "\n",
    "#create a threshold for allomap\n",
    "predicted_allomap = X_test[:, 0]\n",
    "predicted_labels = (predicted_allomap > 35).astype(int)\n",
    "# Evaluate the performance\n",
    "print(\"Classification Report:\")\n",
    "print(classification_report(y_test, predicted_labels))\n",
    "print(\"Confusion Matrix:\")\n",
    "print(confusion_matrix(y_test, predicted_labels))"
   ]
  },
  {
   "cell_type": "code",
   "execution_count": null,
   "metadata": {},
   "outputs": [],
   "source": []
  },
  {
   "cell_type": "code",
   "execution_count": null,
   "metadata": {},
   "outputs": [],
   "source": []
  }
 ],
 "metadata": {
  "kernelspec": {
   "display_name": "TS",
   "language": "python",
   "name": "python3"
  },
  "language_info": {
   "codemirror_mode": {
    "name": "ipython",
    "version": 3
   },
   "file_extension": ".py",
   "mimetype": "text/x-python",
   "name": "python",
   "nbconvert_exporter": "python",
   "pygments_lexer": "ipython3",
   "version": "3.9.19"
  }
 },
 "nbformat": 4,
 "nbformat_minor": 2
}
